{
 "cells": [
  {
   "cell_type": "markdown",
   "metadata": {},
   "source": [
    "# HOMEWORK 2\n",
    "\n",
    "## Risk Management of Bonds\n",
    "\n",
    "--Shashank Gupta"
   ]
  },
  {
   "cell_type": "markdown",
   "metadata": {},
   "source": [
    "### Environment setup\n",
    "\n",
    "All the analysis in this has been done using the Python libraries 'Pandas' and 'SciPy'\n",
    "\n",
    "First, we setup the Python dependencies:"
   ]
  },
  {
   "cell_type": "code",
   "execution_count": 1,
   "metadata": {
    "collapsed": true
   },
   "outputs": [],
   "source": [
    "import numpy as np\n",
    "import pandas as pd\n",
    "import scipy\n",
    "import matplotlib.pyplot as plt\n",
    "import seaborn as sns\n",
    "import math\n",
    "import datetime\n",
    "import matplotlib.pyplot as plt\n",
    "\n",
    "sns.set(color_codes=True)\n",
    "epsilon = 1e-4\n",
    "%matplotlib inline"
   ]
  },
  {
   "cell_type": "code",
   "execution_count": 16,
   "metadata": {
    "collapsed": false
   },
   "outputs": [
    {
     "data": {
      "text/html": [
       "<div>\n",
       "<table border=\"1\" class=\"dataframe\">\n",
       "  <thead>\n",
       "    <tr style=\"text-align: right;\">\n",
       "      <th></th>\n",
       "      <th>1-month</th>\n",
       "      <th>3-month</th>\n",
       "      <th>6-month</th>\n",
       "      <th>1-year</th>\n",
       "      <th>2-year</th>\n",
       "      <th>3-year</th>\n",
       "      <th>5-year</th>\n",
       "      <th>7-year</th>\n",
       "      <th>10-year</th>\n",
       "      <th>20-year</th>\n",
       "      <th>30-year</th>\n",
       "    </tr>\n",
       "    <tr>\n",
       "      <th>Date</th>\n",
       "      <th></th>\n",
       "      <th></th>\n",
       "      <th></th>\n",
       "      <th></th>\n",
       "      <th></th>\n",
       "      <th></th>\n",
       "      <th></th>\n",
       "      <th></th>\n",
       "      <th></th>\n",
       "      <th></th>\n",
       "      <th></th>\n",
       "    </tr>\n",
       "  </thead>\n",
       "  <tbody>\n",
       "    <tr>\n",
       "      <th>2007-03-23</th>\n",
       "      <td>5.24</td>\n",
       "      <td>5.08</td>\n",
       "      <td>5.10</td>\n",
       "      <td>4.93</td>\n",
       "      <td>4.60</td>\n",
       "      <td>4.54</td>\n",
       "      <td>4.52</td>\n",
       "      <td>4.54</td>\n",
       "      <td>4.62</td>\n",
       "      <td>4.88</td>\n",
       "      <td>4.80</td>\n",
       "    </tr>\n",
       "    <tr>\n",
       "      <th>2007-03-26</th>\n",
       "      <td>5.22</td>\n",
       "      <td>5.06</td>\n",
       "      <td>5.09</td>\n",
       "      <td>4.91</td>\n",
       "      <td>4.56</td>\n",
       "      <td>4.50</td>\n",
       "      <td>4.48</td>\n",
       "      <td>4.51</td>\n",
       "      <td>4.60</td>\n",
       "      <td>4.86</td>\n",
       "      <td>4.79</td>\n",
       "    </tr>\n",
       "    <tr>\n",
       "      <th>2007-03-27</th>\n",
       "      <td>5.20</td>\n",
       "      <td>5.08</td>\n",
       "      <td>5.09</td>\n",
       "      <td>4.91</td>\n",
       "      <td>4.58</td>\n",
       "      <td>4.51</td>\n",
       "      <td>4.50</td>\n",
       "      <td>4.53</td>\n",
       "      <td>4.62</td>\n",
       "      <td>4.89</td>\n",
       "      <td>4.81</td>\n",
       "    </tr>\n",
       "    <tr>\n",
       "      <th>2007-03-28</th>\n",
       "      <td>5.18</td>\n",
       "      <td>5.06</td>\n",
       "      <td>5.08</td>\n",
       "      <td>4.90</td>\n",
       "      <td>4.53</td>\n",
       "      <td>4.49</td>\n",
       "      <td>4.50</td>\n",
       "      <td>4.53</td>\n",
       "      <td>4.62</td>\n",
       "      <td>4.90</td>\n",
       "      <td>4.83</td>\n",
       "    </tr>\n",
       "    <tr>\n",
       "      <th>2007-03-29</th>\n",
       "      <td>5.05</td>\n",
       "      <td>5.05</td>\n",
       "      <td>5.06</td>\n",
       "      <td>4.90</td>\n",
       "      <td>4.58</td>\n",
       "      <td>4.52</td>\n",
       "      <td>4.53</td>\n",
       "      <td>4.55</td>\n",
       "      <td>4.64</td>\n",
       "      <td>4.90</td>\n",
       "      <td>4.83</td>\n",
       "    </tr>\n",
       "  </tbody>\n",
       "</table>\n",
       "</div>"
      ],
      "text/plain": [
       "            1-month  3-month  6-month  1-year  2-year  3-year  5-year  7-year  \\\n",
       "Date                                                                            \n",
       "2007-03-23     5.24     5.08     5.10    4.93    4.60    4.54    4.52    4.54   \n",
       "2007-03-26     5.22     5.06     5.09    4.91    4.56    4.50    4.48    4.51   \n",
       "2007-03-27     5.20     5.08     5.09    4.91    4.58    4.51    4.50    4.53   \n",
       "2007-03-28     5.18     5.06     5.08    4.90    4.53    4.49    4.50    4.53   \n",
       "2007-03-29     5.05     5.05     5.06    4.90    4.58    4.52    4.53    4.55   \n",
       "\n",
       "            10-year  20-year  30-year  \n",
       "Date                                   \n",
       "2007-03-23     4.62     4.88     4.80  \n",
       "2007-03-26     4.60     4.86     4.79  \n",
       "2007-03-27     4.62     4.89     4.81  \n",
       "2007-03-28     4.62     4.90     4.83  \n",
       "2007-03-29     4.64     4.90     4.83  "
      ]
     },
     "execution_count": 16,
     "metadata": {},
     "output_type": "execute_result"
    }
   ],
   "source": [
    "df = pd.read_csv('data/FRB_H15_reduced.csv')\n",
    "df['Date'] = pd.to_datetime(df['Date'])\n",
    "df = df.set_index('Date')\n",
    "# Get rid of rows with 'ND' as value\n",
    "df = df[df['1-month'] != 'ND']\n",
    "df = df.astype(float)\n",
    "# To see how the data looks like\n",
    "df.head()"
   ]
  },
  {
   "cell_type": "code",
   "execution_count": 18,
   "metadata": {
    "collapsed": false
   },
   "outputs": [
    {
     "data": {
      "text/html": [
       "<div>\n",
       "<table border=\"1\" class=\"dataframe\">\n",
       "  <thead>\n",
       "    <tr style=\"text-align: right;\">\n",
       "      <th></th>\n",
       "      <th>1-month</th>\n",
       "      <th>3-month</th>\n",
       "      <th>6-month</th>\n",
       "      <th>1-year</th>\n",
       "      <th>2-year</th>\n",
       "      <th>3-year</th>\n",
       "      <th>5-year</th>\n",
       "      <th>7-year</th>\n",
       "      <th>10-year</th>\n",
       "      <th>20-year</th>\n",
       "      <th>30-year</th>\n",
       "    </tr>\n",
       "  </thead>\n",
       "  <tbody>\n",
       "    <tr>\n",
       "      <th>1-month</th>\n",
       "      <td>1.000000</td>\n",
       "      <td>0.996157</td>\n",
       "      <td>0.988650</td>\n",
       "      <td>0.980268</td>\n",
       "      <td>0.957150</td>\n",
       "      <td>0.922289</td>\n",
       "      <td>0.841645</td>\n",
       "      <td>0.762961</td>\n",
       "      <td>0.696912</td>\n",
       "      <td>0.574766</td>\n",
       "      <td>0.546457</td>\n",
       "    </tr>\n",
       "    <tr>\n",
       "      <th>3-month</th>\n",
       "      <td>0.996157</td>\n",
       "      <td>1.000000</td>\n",
       "      <td>0.996193</td>\n",
       "      <td>0.989637</td>\n",
       "      <td>0.968581</td>\n",
       "      <td>0.934291</td>\n",
       "      <td>0.853933</td>\n",
       "      <td>0.774537</td>\n",
       "      <td>0.707737</td>\n",
       "      <td>0.584191</td>\n",
       "      <td>0.553151</td>\n",
       "    </tr>\n",
       "    <tr>\n",
       "      <th>6-month</th>\n",
       "      <td>0.988650</td>\n",
       "      <td>0.996193</td>\n",
       "      <td>1.000000</td>\n",
       "      <td>0.997418</td>\n",
       "      <td>0.979444</td>\n",
       "      <td>0.946374</td>\n",
       "      <td>0.866561</td>\n",
       "      <td>0.785603</td>\n",
       "      <td>0.717580</td>\n",
       "      <td>0.592526</td>\n",
       "      <td>0.555005</td>\n",
       "    </tr>\n",
       "    <tr>\n",
       "      <th>1-year</th>\n",
       "      <td>0.980268</td>\n",
       "      <td>0.989637</td>\n",
       "      <td>0.997418</td>\n",
       "      <td>1.000000</td>\n",
       "      <td>0.988929</td>\n",
       "      <td>0.960377</td>\n",
       "      <td>0.883735</td>\n",
       "      <td>0.803226</td>\n",
       "      <td>0.732418</td>\n",
       "      <td>0.605738</td>\n",
       "      <td>0.563677</td>\n",
       "    </tr>\n",
       "    <tr>\n",
       "      <th>2-year</th>\n",
       "      <td>0.957150</td>\n",
       "      <td>0.968581</td>\n",
       "      <td>0.979444</td>\n",
       "      <td>0.988929</td>\n",
       "      <td>1.000000</td>\n",
       "      <td>0.989651</td>\n",
       "      <td>0.933236</td>\n",
       "      <td>0.862196</td>\n",
       "      <td>0.787439</td>\n",
       "      <td>0.658582</td>\n",
       "      <td>0.613263</td>\n",
       "    </tr>\n",
       "  </tbody>\n",
       "</table>\n",
       "</div>"
      ],
      "text/plain": [
       "          1-month   3-month   6-month    1-year    2-year    3-year    5-year  \\\n",
       "1-month  1.000000  0.996157  0.988650  0.980268  0.957150  0.922289  0.841645   \n",
       "3-month  0.996157  1.000000  0.996193  0.989637  0.968581  0.934291  0.853933   \n",
       "6-month  0.988650  0.996193  1.000000  0.997418  0.979444  0.946374  0.866561   \n",
       "1-year   0.980268  0.989637  0.997418  1.000000  0.988929  0.960377  0.883735   \n",
       "2-year   0.957150  0.968581  0.979444  0.988929  1.000000  0.989651  0.933236   \n",
       "\n",
       "           7-year   10-year   20-year   30-year  \n",
       "1-month  0.762961  0.696912  0.574766  0.546457  \n",
       "3-month  0.774537  0.707737  0.584191  0.553151  \n",
       "6-month  0.785603  0.717580  0.592526  0.555005  \n",
       "1-year   0.803226  0.732418  0.605738  0.563677  \n",
       "2-year   0.862196  0.787439  0.658582  0.613263  "
      ]
     },
     "execution_count": 18,
     "metadata": {},
     "output_type": "execute_result"
    }
   ],
   "source": [
    "corr_matrix = df.corr()\n",
    "# To show how the correlation matrix looks like\n",
    "corr_matrix.head()"
   ]
  },
  {
   "cell_type": "code",
   "execution_count": 198,
   "metadata": {
    "collapsed": false
   },
   "outputs": [
    {
     "data": {
      "text/plain": [
       "[(9.3629296613282964,\n",
       "  array([-0.30060498, -0.30356064, -0.30575833, -0.30833868, -0.31562478,\n",
       "         -0.31960947, -0.3194202 , -0.31059094, -0.29885566, -0.26921944,\n",
       "         -0.25858783])),\n",
       " (1.4236628443345969,\n",
       "  array([ 0.29570933,  0.29110196,  0.28535226,  0.27016236,  0.19998749,\n",
       "          0.10957622, -0.07955802, -0.2229635 , -0.33657792, -0.46207772,\n",
       "         -0.48842335])),\n",
       " (0.16978095722498715,\n",
       "  array([ 0.34854315,  0.29061   ,  0.1944923 ,  0.07582613, -0.18469758,\n",
       "         -0.37875589, -0.44856539, -0.36208013, -0.05478995,  0.25098062,\n",
       "          0.41786515]))]"
      ]
     },
     "execution_count": 198,
     "metadata": {},
     "output_type": "execute_result"
    }
   ],
   "source": [
    "eig_values, eig_vectors = np.linalg.eigh(corr_matrix)\n",
    "# Make a list of (eigenvalue, eigenvector) tuples, and sort them by \n",
    "eig_pairs = [(np.abs(eig_values[i]), eig_vectors[:,i]) for i in range(len(eig_values))]\n",
    "eig_pairs.sort(key=lambda x: x[0], reverse=True)\n",
    "# Show the first three eigenvectors:\n",
    "eig_pairs[0:3]"
   ]
  },
  {
   "cell_type": "code",
   "execution_count": 199,
   "metadata": {
    "collapsed": false
   },
   "outputs": [
    {
     "name": "stdout",
     "output_type": "stream",
     "text": [
      "1.13695195806 0.871833984436\n",
      "(2504, 11)\n"
     ]
    }
   ],
   "source": [
    "# Gamma is given by N/T, where N is the number of iid random variables\n",
    "gamma = float(df.shape[1])/float(df.shape[0])\n",
    "mp_value_pos = (1 + math.sqrt(gamma))**2\n",
    "mp_value_neg = (1 - math.sqrt(gamma))**2\n",
    "print mp_value_pos, mp_value_neg\n",
    "print df.shape"
   ]
  },
  {
   "cell_type": "code",
   "execution_count": 200,
   "metadata": {
    "collapsed": false
   },
   "outputs": [
    {
     "data": {
      "text/plain": [
       "[(9.3629296613282964,\n",
       "  array([-0.30060498, -0.30356064, -0.30575833, -0.30833868, -0.31562478,\n",
       "         -0.31960947, -0.3194202 , -0.31059094, -0.29885566, -0.26921944,\n",
       "         -0.25858783])),\n",
       " (1.4236628443345969,\n",
       "  array([ 0.29570933,  0.29110196,  0.28535226,  0.27016236,  0.19998749,\n",
       "          0.10957622, -0.07955802, -0.2229635 , -0.33657792, -0.46207772,\n",
       "         -0.48842335]))]"
      ]
     },
     "execution_count": 200,
     "metadata": {},
     "output_type": "execute_result"
    }
   ],
   "source": [
    "sig_eig_pairs = [(val, vec) for val, vec in eig_pairs if val > mp_value_pos]\n",
    "sig_eig_pairs"
   ]
  },
  {
   "cell_type": "code",
   "execution_count": 201,
   "metadata": {
    "collapsed": false
   },
   "outputs": [
    {
     "name": "stdout",
     "output_type": "stream",
     "text": [
      "         0         1         2         3         4         5         6   \\\n",
      "0  0.524678  0.278686  0.145384  0.051731 -0.169075 -0.317117 -0.526385   \n",
      "1  0.530233  0.284718  0.160190  0.058176 -0.181474 -0.330396 -0.541080   \n",
      "2  0.510991  0.298822  0.157258  0.054559 -0.169691 -0.330917 -0.537755   \n",
      "3  0.514812  0.302727  0.169530  0.065985 -0.198610 -0.337019 -0.532837   \n",
      "4  0.415306  0.304684  0.163266  0.075388 -0.146321 -0.305594 -0.507436   \n",
      "\n",
      "         7         8         9         10  \n",
      "0 -0.453659 -0.277764  0.027236  0.915414  \n",
      "1 -0.459753 -0.274032  0.029890  0.926626  \n",
      "2 -0.460157 -0.277312  0.033788  0.922591  \n",
      "3 -0.461710 -0.284116  0.031831  0.933959  \n",
      "4 -0.451332 -0.277596  0.010557  0.911641  \n"
     ]
    }
   ],
   "source": [
    "df_std = df/df.std()\n",
    "\n",
    "sig_eig_vecs = np.array([ vec for val, vec in sig_eig_pairs])\n",
    "sig_eig_vecs_proj_matrix = np.dot(sig_eig_vecs.T, sig_eig_vecs)\n",
    "\n",
    "projection = pd.DataFrame(np.dot(df_std, sig_eig_vecs_proj_matrix))\n",
    "residual = pd.DataFrame(np.array(df_std) - projection)\n",
    "residual_corr = residual.corr()\n",
    "print residual.head()"
   ]
  },
  {
   "cell_type": "code",
   "execution_count": 241,
   "metadata": {
    "collapsed": false
   },
   "outputs": [
    {
     "data": {
      "text/plain": [
       "array([ -2.71747665e-15,  -1.81100054e-15,   9.82352443e-16,\n",
       "         3.28148334e-15,   1.51556859e-11,   3.36932562e-06,\n",
       "         1.23710106e-05,   9.49191719e-03,   8.59980304e-02,\n",
       "         7.29076519e-01,   1.01754178e+01])"
      ]
     },
     "execution_count": 241,
     "metadata": {},
     "output_type": "execute_result"
    }
   ],
   "source": [
    "res_eig_vals, res_eig_vecs = np.linalg.eigh(residual_corr)\n",
    "eig_pairs = [(np.abs(res_eig_vals[i]), res_eig_vecs[:,i]) for i in range(len(res_eig_vals))]\n",
    "eig_pairs.sort(key=lambda x: x[0], reverse=True)\n",
    "\n",
    "sig_eig_pairs = [(val, vec) for val, vec in eig_pairs if val > mp_value_pos]\n",
    "\n",
    "sig_eig_vecs = np.array([ vec for val, vec in sig_eig_pairs])\n",
    "sig_eig_vecs_proj_matrix = np.dot(sig_eig_vecs.T, sig_eig_vecs)\n",
    "\n",
    "projection = pd.DataFrame(np.dot(residual, sig_eig_vecs_proj_matrix))\n",
    "residual = pd.DataFrame(np.array(residual) - projection)\n",
    "residual = residual/residual.std()\n",
    "residual_corr = residual.corr()\n",
    "\n",
    "res_eig_vals, res_eig_vecs = np.linalg.eigh(residual_corr)\n",
    "res_eig_vals"
   ]
  },
  {
   "cell_type": "code",
   "execution_count": 206,
   "metadata": {
    "collapsed": false
   },
   "outputs": [
    {
     "name": "stderr",
     "output_type": "stream",
     "text": [
      "/anaconda/lib/python2.7/site-packages/ipykernel/__main__.py:10: RuntimeWarning: invalid value encountered in sqrt\n"
     ]
    },
    {
     "data": {
      "image/png": "[encoded data removed]",
      "text/plain": [
       "<matplotlib.figure.Figure at 0x11a96fa10>"
      ]
     },
     "metadata": {},
     "output_type": "display_data"
    }
   ],
   "source": [
    "# Remove eigenvalues which are less then epsilon (our precision tolerance), since those generally exist because of \n",
    "# degeneracy and floating-point precision errors\n",
    "#res_eig_vals = np.array([val for val in res_eig_vals if (val > epsilon)])\n",
    "def eigden(lam, T, N):\n",
    "    # Method for plotting Marchenko Pastur distribution\n",
    "    # Taken from: https://anaconda.org/steve98654/ana_con_server_demo/notebook\n",
    "    gamma = float(N)/float(T)\n",
    "    lambda_plus = (1 + np.sqrt(gamma))**2\n",
    "    lambda_minus = (1 - np.sqrt(gamma))**2\n",
    "    return 1/(2 * np.pi * float(lam) * gamma) * np.sqrt((lambda_plus - lam) * (lam - lambda_minus))\n",
    "\n",
    "\n",
    "plt.figure(figsize=(16,10))\n",
    "plt.hist(res_eig_vals, bins=75, normed=True)\n",
    "\n",
    "lamvls = np.linspace(0.0001,5,1000) \n",
    "plt.plot(lamvls,[eigden(lam, df.shape[0], df.shape[1]) for lam in lamvls])\n",
    "\n",
    "plt.title('Fig (1): Histogram of eigenvalues of residual matrix for first quarter')\n",
    "plt.show()"
   ]
  },
  {
   "cell_type": "code",
   "execution_count": 245,
   "metadata": {
    "collapsed": false
   },
   "outputs": [
    {
     "data": {
      "text/plain": [
       "1-month    1.181415\n",
       "3-month    1.196069\n",
       "6-month    1.225081\n",
       "1-year     1.188313\n",
       "2-year     1.089356\n",
       "3-year     1.038817\n",
       "5-year     0.972643\n",
       "7-year     0.916562\n",
       "10-year    0.881610\n",
       "20-year    0.902208\n",
       "30-year    0.774207\n",
       "dtype: float64"
      ]
     },
     "execution_count": 245,
     "metadata": {},
     "output_type": "execute_result"
    }
   ],
   "source": [
    "df.std()"
   ]
  },
  {
   "cell_type": "code",
   "execution_count": 243,
   "metadata": {
    "collapsed": false
   },
   "outputs": [
    {
     "data": {
      "text/html": [
       "<div>\n",
       "<table border=\"1\" class=\"dataframe\">\n",
       "  <thead>\n",
       "    <tr style=\"text-align: right;\">\n",
       "      <th></th>\n",
       "      <th>1-month</th>\n",
       "      <th>3-month</th>\n",
       "      <th>6-month</th>\n",
       "      <th>1-year</th>\n",
       "      <th>2-year</th>\n",
       "      <th>3-year</th>\n",
       "      <th>5-year</th>\n",
       "      <th>7-year</th>\n",
       "      <th>10-year</th>\n",
       "      <th>20-year</th>\n",
       "      <th>30-year</th>\n",
       "    </tr>\n",
       "  </thead>\n",
       "  <tbody>\n",
       "    <tr>\n",
       "      <th>1-month</th>\n",
       "      <td>1.395742</td>\n",
       "      <td>1.407625</td>\n",
       "      <td>1.430902</td>\n",
       "      <td>1.376190</td>\n",
       "      <td>1.231835</td>\n",
       "      <td>1.131902</td>\n",
       "      <td>0.967131</td>\n",
       "      <td>0.826165</td>\n",
       "      <td>0.725867</td>\n",
       "      <td>0.612633</td>\n",
       "      <td>0.499822</td>\n",
       "    </tr>\n",
       "    <tr>\n",
       "      <th>3-month</th>\n",
       "      <td>1.407625</td>\n",
       "      <td>1.430581</td>\n",
       "      <td>1.459703</td>\n",
       "      <td>1.406575</td>\n",
       "      <td>1.262008</td>\n",
       "      <td>1.160853</td>\n",
       "      <td>0.993422</td>\n",
       "      <td>0.849102</td>\n",
       "      <td>0.746285</td>\n",
       "      <td>0.630402</td>\n",
       "      <td>0.512220</td>\n",
       "    </tr>\n",
       "    <tr>\n",
       "      <th>6-month</th>\n",
       "      <td>1.430902</td>\n",
       "      <td>1.459703</td>\n",
       "      <td>1.500824</td>\n",
       "      <td>1.452021</td>\n",
       "      <td>1.307116</td>\n",
       "      <td>1.204388</td>\n",
       "      <td>1.032565</td>\n",
       "      <td>0.882124</td>\n",
       "      <td>0.775018</td>\n",
       "      <td>0.654906</td>\n",
       "      <td>0.526403</td>\n",
       "    </tr>\n",
       "    <tr>\n",
       "      <th>1-year</th>\n",
       "      <td>1.376190</td>\n",
       "      <td>1.406575</td>\n",
       "      <td>1.452021</td>\n",
       "      <td>1.412088</td>\n",
       "      <td>1.280164</td>\n",
       "      <td>1.185527</td>\n",
       "      <td>1.021426</td>\n",
       "      <td>0.874844</td>\n",
       "      <td>0.767303</td>\n",
       "      <td>0.649414</td>\n",
       "      <td>0.518583</td>\n",
       "    </tr>\n",
       "    <tr>\n",
       "      <th>2-year</th>\n",
       "      <td>1.231835</td>\n",
       "      <td>1.262008</td>\n",
       "      <td>1.307116</td>\n",
       "      <td>1.280164</td>\n",
       "      <td>1.186696</td>\n",
       "      <td>1.119929</td>\n",
       "      <td>0.988815</td>\n",
       "      <td>0.860870</td>\n",
       "      <td>0.756246</td>\n",
       "      <td>0.647271</td>\n",
       "      <td>0.517217</td>\n",
       "    </tr>\n",
       "    <tr>\n",
       "      <th>3-year</th>\n",
       "      <td>1.131902</td>\n",
       "      <td>1.160853</td>\n",
       "      <td>1.204388</td>\n",
       "      <td>1.185527</td>\n",
       "      <td>1.119929</td>\n",
       "      <td>1.079140</td>\n",
       "      <td>0.981472</td>\n",
       "      <td>0.872272</td>\n",
       "      <td>0.772857</td>\n",
       "      <td>0.673443</td>\n",
       "      <td>0.540273</td>\n",
       "    </tr>\n",
       "    <tr>\n",
       "      <th>5-year</th>\n",
       "      <td>0.967131</td>\n",
       "      <td>0.993422</td>\n",
       "      <td>1.032565</td>\n",
       "      <td>1.021426</td>\n",
       "      <td>0.988815</td>\n",
       "      <td>0.981472</td>\n",
       "      <td>0.946035</td>\n",
       "      <td>0.876667</td>\n",
       "      <td>0.803035</td>\n",
       "      <td>0.734029</td>\n",
       "      <td>0.600197</td>\n",
       "    </tr>\n",
       "    <tr>\n",
       "      <th>7-year</th>\n",
       "      <td>0.826165</td>\n",
       "      <td>0.849102</td>\n",
       "      <td>0.882124</td>\n",
       "      <td>0.874844</td>\n",
       "      <td>0.860870</td>\n",
       "      <td>0.872272</td>\n",
       "      <td>0.876667</td>\n",
       "      <td>0.840085</td>\n",
       "      <td>0.791993</td>\n",
       "      <td>0.753229</td>\n",
       "      <td>0.625474</td>\n",
       "    </tr>\n",
       "    <tr>\n",
       "      <th>10-year</th>\n",
       "      <td>0.725867</td>\n",
       "      <td>0.746285</td>\n",
       "      <td>0.775018</td>\n",
       "      <td>0.767303</td>\n",
       "      <td>0.756246</td>\n",
       "      <td>0.772857</td>\n",
       "      <td>0.803035</td>\n",
       "      <td>0.791993</td>\n",
       "      <td>0.777237</td>\n",
       "      <td>0.773315</td>\n",
       "      <td>0.649811</td>\n",
       "    </tr>\n",
       "    <tr>\n",
       "      <th>20-year</th>\n",
       "      <td>0.612633</td>\n",
       "      <td>0.630402</td>\n",
       "      <td>0.654906</td>\n",
       "      <td>0.649414</td>\n",
       "      <td>0.647271</td>\n",
       "      <td>0.673443</td>\n",
       "      <td>0.734029</td>\n",
       "      <td>0.753229</td>\n",
       "      <td>0.773315</td>\n",
       "      <td>0.813979</td>\n",
       "      <td>0.689428</td>\n",
       "    </tr>\n",
       "    <tr>\n",
       "      <th>30-year</th>\n",
       "      <td>0.499822</td>\n",
       "      <td>0.512220</td>\n",
       "      <td>0.526403</td>\n",
       "      <td>0.518583</td>\n",
       "      <td>0.517217</td>\n",
       "      <td>0.540273</td>\n",
       "      <td>0.600197</td>\n",
       "      <td>0.625474</td>\n",
       "      <td>0.649811</td>\n",
       "      <td>0.689428</td>\n",
       "      <td>0.599396</td>\n",
       "    </tr>\n",
       "  </tbody>\n",
       "</table>\n",
       "</div>"
      ],
      "text/plain": [
       "          1-month   3-month   6-month    1-year    2-year    3-year    5-year  \\\n",
       "1-month  1.395742  1.407625  1.430902  1.376190  1.231835  1.131902  0.967131   \n",
       "3-month  1.407625  1.430581  1.459703  1.406575  1.262008  1.160853  0.993422   \n",
       "6-month  1.430902  1.459703  1.500824  1.452021  1.307116  1.204388  1.032565   \n",
       "1-year   1.376190  1.406575  1.452021  1.412088  1.280164  1.185527  1.021426   \n",
       "2-year   1.231835  1.262008  1.307116  1.280164  1.186696  1.119929  0.988815   \n",
       "3-year   1.131902  1.160853  1.204388  1.185527  1.119929  1.079140  0.981472   \n",
       "5-year   0.967131  0.993422  1.032565  1.021426  0.988815  0.981472  0.946035   \n",
       "7-year   0.826165  0.849102  0.882124  0.874844  0.860870  0.872272  0.876667   \n",
       "10-year  0.725867  0.746285  0.775018  0.767303  0.756246  0.772857  0.803035   \n",
       "20-year  0.612633  0.630402  0.654906  0.649414  0.647271  0.673443  0.734029   \n",
       "30-year  0.499822  0.512220  0.526403  0.518583  0.517217  0.540273  0.600197   \n",
       "\n",
       "           7-year   10-year   20-year   30-year  \n",
       "1-month  0.826165  0.725867  0.612633  0.499822  \n",
       "3-month  0.849102  0.746285  0.630402  0.512220  \n",
       "6-month  0.882124  0.775018  0.654906  0.526403  \n",
       "1-year   0.874844  0.767303  0.649414  0.518583  \n",
       "2-year   0.860870  0.756246  0.647271  0.517217  \n",
       "3-year   0.872272  0.772857  0.673443  0.540273  \n",
       "5-year   0.876667  0.803035  0.734029  0.600197  \n",
       "7-year   0.840085  0.791993  0.753229  0.625474  \n",
       "10-year  0.791993  0.777237  0.773315  0.649811  \n",
       "20-year  0.753229  0.773315  0.813979  0.689428  \n",
       "30-year  0.625474  0.649811  0.689428  0.599396  "
      ]
     },
     "execution_count": 243,
     "metadata": {},
     "output_type": "execute_result"
    }
   ],
   "source": [
    "df.cov()"
   ]
  },
  {
   "cell_type": "code",
   "execution_count": 257,
   "metadata": {
    "collapsed": false
   },
   "outputs": [
    {
     "data": {
      "text/plain": [
       "3.293755108754495"
      ]
     },
     "execution_count": 257,
     "metadata": {},
     "output_type": "execute_result"
    }
   ],
   "source": [
    "weights = np.array([0, -100, -50, 0, 50, 0, -20, 0, 50, 0, 0])\n",
    "weights = weights/np.abs(weights).sum()\n",
    "variance = np.dot(np.dot(df.cov(), weights), weights.T)\n",
    "math.sqrt(variance)\n"
   ]
  },
  {
   "cell_type": "code",
   "execution_count": 258,
   "metadata": {
    "collapsed": false,
    "scrolled": true
   },
   "outputs": [
    {
     "data": {
      "text/plain": [
       "Date\n",
       "2007-03-23   -14.70\n",
       "2007-03-26   -14.63\n",
       "2007-03-27   -14.67\n",
       "2007-03-28   -14.64\n",
       "2007-03-29   -14.64\n",
       "dtype: float64"
      ]
     },
     "execution_count": 258,
     "metadata": {},
     "output_type": "execute_result"
    }
   ],
   "source": [
    "portfolio = df.dot(weights)\n",
    "portfolio.head()"
   ]
  },
  {
   "cell_type": "code",
   "execution_count": 259,
   "metadata": {
    "collapsed": false
   },
   "outputs": [
    {
     "name": "stdout",
     "output_type": "stream",
     "text": [
      "Integral norm.pdf(x; mu_norm, sig_norm) dx = 0.02\n",
      "Sample mean  = -3.12871\n",
      "Sample stdev = 3.29310\n",
      "()\n",
      "Integral t.pdf(x; mu, sig) dx = 0.01\n",
      "nu = 0.95\n",
      "()\n"
     ]
    }
   ],
   "source": [
    "from scipy.stats import norm, t\n",
    "\n",
    "# N(x; mu, sig) best fit (finding: mu, stdev)\n",
    "mu_norm, sig_norm = norm.fit(portfolio)\n",
    "dx = 0.0001  # resolution\n",
    "x = np.arange(-0.1, 0.1, dx)\n",
    "pdf = norm.pdf(x, mu_norm, sig_norm)\n",
    "print(\"Integral norm.pdf(x; mu_norm, sig_norm) dx = %.2f\" % (np.sum(pdf*dx)))\n",
    "print(\"Sample mean  = %.5f\" % mu_norm)\n",
    "print(\"Sample stdev = %.5f\" % sig_norm)\n",
    " \n",
    "# Student t best fit (finding: nu)\n",
    "parm = t.fit(portfolio)\n",
    "nu, mu_t, sig_t = parm\n",
    "pdf2 = t.pdf(x, nu, mu_t, sig_t)\n",
    "print(\"Integral t.pdf(x; mu, sig) dx = %.2f\" % (np.sum(pdf2*dx)))\n",
    "print(\"nu = %.2f\" % nu)\n"
   ]
  },
  {
   "cell_type": "code",
   "execution_count": 263,
   "metadata": {
    "collapsed": false
   },
   "outputs": [
    {
     "data": {
      "image/png": "[encoded data removed]",
      "text/plain": [
       "<matplotlib.figure.Figure at 0x120b38310>"
      ]
     },
     "metadata": {},
     "output_type": "display_data"
    }
   ],
   "source": [
    "plt.figure(figsize=(16,10))\n",
    "plt.hist(portfolio, bins=1000, normed=True)\n",
    "plt.show()"
   ]
  },
  {
   "cell_type": "code",
   "execution_count": 303,
   "metadata": {
    "collapsed": false
   },
   "outputs": [
    {
     "data": {
      "image/png": "[encoded data removed]",
      "text/plain": [
       "<matplotlib.figure.Figure at 0x1240cdbd0>"
      ]
     },
     "metadata": {},
     "output_type": "display_data"
    }
   ],
   "source": [
    "sns.set(font_scale=1.5)\n",
    "sns.set_style(\"whitegrid\")\n",
    "df_change = df.pct_change()[1:]\n",
    "df_change = df_change.replace([np.inf, -np.inf], np.nan)\n",
    "df_change = df_change.fillna(value=0)*10\n",
    "plt.figure(figsize=(16,10))\n",
    "\n",
    "#bins = xrange(int(df['3-month'].min())-1, int(df_change['3-month'].max())+1)\n",
    "plt.hist(df['3-month'], bins=500, alpha=0.75, label='3 Months', normed=True)\n",
    "plt.hist(df['6-month'], bins=500, alpha=0.75, label='6 Months', normed=True)\n",
    "plt.hist(df['2-year'], bins=500, alpha=0.75, label='2 Years', normed=True)\n",
    "plt.hist(df['5-year'], bins=500, alpha=0.75, label='5 Years', normed=True)\n",
    "plt.hist(df['10-year'], bins=500, alpha=0.75, label='10 Years', normed=True)\n",
    "# fig, ax = plt.subplots(1, figsize=(16,10))\n",
    "# df_change['3-month'].plot(ax=ax, alpha=0.75, label='3 Months')\n",
    "# df_change['6-month'].plot(ax=ax, alpha=0.75, label='6 Months')\n",
    "# df_change['2-year'].plot(ax=ax, alpha=0.75, label='2 years')\n",
    "# df_change['5-year'].plot(ax=ax, alpha=0.75, label='5 years')\n",
    "# df_change['10-year'].plot(ax=ax, alpha=0.75, label='10 years')\n",
    "plt.legend(loc='best')\n",
    "plt.show()"
   ]
  },
  {
   "cell_type": "code",
   "execution_count": 300,
   "metadata": {
    "collapsed": false
   },
   "outputs": [
    {
     "data": {
      "text/plain": [
       "inf"
      ]
     },
     "execution_count": 300,
     "metadata": {},
     "output_type": "execute_result"
    }
   ],
   "source": [
    "df_change['3-month'].max()"
   ]
  },
  {
   "cell_type": "code",
   "execution_count": 282,
   "metadata": {
    "collapsed": false
   },
   "outputs": [
    {
     "data": {
      "text/html": [
       "<div>\n",
       "<table border=\"1\" class=\"dataframe\">\n",
       "  <thead>\n",
       "    <tr style=\"text-align: right;\">\n",
       "      <th></th>\n",
       "      <th>1-month</th>\n",
       "      <th>3-month</th>\n",
       "      <th>6-month</th>\n",
       "      <th>1-year</th>\n",
       "      <th>2-year</th>\n",
       "      <th>3-year</th>\n",
       "      <th>5-year</th>\n",
       "      <th>7-year</th>\n",
       "      <th>10-year</th>\n",
       "      <th>20-year</th>\n",
       "      <th>30-year</th>\n",
       "    </tr>\n",
       "    <tr>\n",
       "      <th>Date</th>\n",
       "      <th></th>\n",
       "      <th></th>\n",
       "      <th></th>\n",
       "      <th></th>\n",
       "      <th></th>\n",
       "      <th></th>\n",
       "      <th></th>\n",
       "      <th></th>\n",
       "      <th></th>\n",
       "      <th></th>\n",
       "      <th></th>\n",
       "    </tr>\n",
       "  </thead>\n",
       "  <tbody>\n",
       "    <tr>\n",
       "      <th>2011-12-15</th>\n",
       "      <td>0.0</td>\n",
       "      <td>0.00</td>\n",
       "      <td>0.05</td>\n",
       "      <td>0.12</td>\n",
       "      <td>0.26</td>\n",
       "      <td>0.37</td>\n",
       "      <td>0.86</td>\n",
       "      <td>1.38</td>\n",
       "      <td>1.92</td>\n",
       "      <td>2.60</td>\n",
       "      <td>2.92</td>\n",
       "    </tr>\n",
       "    <tr>\n",
       "      <th>2011-12-16</th>\n",
       "      <td>0.0</td>\n",
       "      <td>0.00</td>\n",
       "      <td>0.04</td>\n",
       "      <td>0.11</td>\n",
       "      <td>0.24</td>\n",
       "      <td>0.35</td>\n",
       "      <td>0.81</td>\n",
       "      <td>1.32</td>\n",
       "      <td>1.86</td>\n",
       "      <td>2.54</td>\n",
       "      <td>2.86</td>\n",
       "    </tr>\n",
       "    <tr>\n",
       "      <th>2011-12-19</th>\n",
       "      <td>0.0</td>\n",
       "      <td>0.01</td>\n",
       "      <td>0.04</td>\n",
       "      <td>0.11</td>\n",
       "      <td>0.24</td>\n",
       "      <td>0.36</td>\n",
       "      <td>0.82</td>\n",
       "      <td>1.30</td>\n",
       "      <td>1.82</td>\n",
       "      <td>2.48</td>\n",
       "      <td>2.79</td>\n",
       "    </tr>\n",
       "    <tr>\n",
       "      <th>2011-12-20</th>\n",
       "      <td>0.0</td>\n",
       "      <td>0.01</td>\n",
       "      <td>0.04</td>\n",
       "      <td>0.12</td>\n",
       "      <td>0.26</td>\n",
       "      <td>0.39</td>\n",
       "      <td>0.88</td>\n",
       "      <td>1.39</td>\n",
       "      <td>1.94</td>\n",
       "      <td>2.61</td>\n",
       "      <td>2.93</td>\n",
       "    </tr>\n",
       "  </tbody>\n",
       "</table>\n",
       "</div>"
      ],
      "text/plain": [
       "            1-month  3-month  6-month  1-year  2-year  3-year  5-year  7-year  \\\n",
       "Date                                                                            \n",
       "2011-12-15      0.0     0.00     0.05    0.12    0.26    0.37    0.86    1.38   \n",
       "2011-12-16      0.0     0.00     0.04    0.11    0.24    0.35    0.81    1.32   \n",
       "2011-12-19      0.0     0.01     0.04    0.11    0.24    0.36    0.82    1.30   \n",
       "2011-12-20      0.0     0.01     0.04    0.12    0.26    0.39    0.88    1.39   \n",
       "\n",
       "            10-year  20-year  30-year  \n",
       "Date                                   \n",
       "2011-12-15     1.92     2.60     2.92  \n",
       "2011-12-16     1.86     2.54     2.86  \n",
       "2011-12-19     1.82     2.48     2.79  \n",
       "2011-12-20     1.94     2.61     2.93  "
      ]
     },
     "execution_count": 282,
     "metadata": {},
     "output_type": "execute_result"
    }
   ],
   "source": [
    "df[datetime.date(2011, 12, 15):datetime.date(2011, 12, 20)]"
   ]
  }
 ],
 "metadata": {
  "kernelspec": {
   "display_name": "Python 2",
   "language": "python",
   "name": "python2"
  },
  "language_info": {
   "codemirror_mode": {
    "name": "ipython",
    "version": 2
   },
   "file_extension": ".py",
   "mimetype": "text/x-python",
   "name": "python",
   "nbconvert_exporter": "python",
   "pygments_lexer": "ipython2",
   "version": "2.7.13"
  }
 },
 "nbformat": 4,
 "nbformat_minor": 2
}
